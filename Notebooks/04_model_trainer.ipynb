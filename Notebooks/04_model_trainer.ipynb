{
 "cells": [
  {
   "cell_type": "code",
   "execution_count": 1,
   "metadata": {},
   "outputs": [],
   "source": [
    "# '''\n",
    "# Goto config ->config.yaml\n",
    "# Paste below code\n",
    "\n",
    "#model_trainer:\n",
    "#   root_dir: artifacts/model_trainer\n",
    "#   train_data_path: artifacts/data_transformation/train.csv\n",
    "#   test_data_path: artifacts/data_transformation/test.csv\n",
    "#   model_name: model.joblib\n",
    "\n",
    "# '''"
   ]
  },
  {
   "cell_type": "code",
   "execution_count": 2,
   "metadata": {},
   "outputs": [],
   "source": [
    "# '''\n",
    "# Goto params.yaml\n",
    "# Paste below code\n",
    "\n",
    "# ElasticNet:\n",
    "#   alpha: 0.2\n",
    "#   l1_ratio:0.1 "
   ]
  },
  {
   "cell_type": "code",
   "execution_count": 3,
   "metadata": {},
   "outputs": [],
   "source": [
    "import os"
   ]
  },
  {
   "cell_type": "code",
   "execution_count": 4,
   "metadata": {},
   "outputs": [
    {
     "data": {
      "text/plain": [
       "'d:\\\\Project\\\\Wine_Quality_MLflow_AWS_CICD_Pipeline_End_to_End_Deployment\\\\research'"
      ]
     },
     "execution_count": 4,
     "metadata": {},
     "output_type": "execute_result"
    }
   ],
   "source": [
    "%pwd"
   ]
  },
  {
   "cell_type": "code",
   "execution_count": 5,
   "metadata": {},
   "outputs": [],
   "source": [
    "os.chdir(\"../\")"
   ]
  },
  {
   "cell_type": "code",
   "execution_count": 6,
   "metadata": {},
   "outputs": [
    {
     "data": {
      "text/plain": [
       "'d:\\\\Project\\\\Wine_Quality_MLflow_AWS_CICD_Pipeline_End_to_End_Deployment'"
      ]
     },
     "execution_count": 6,
     "metadata": {},
     "output_type": "execute_result"
    }
   ],
   "source": [
    "%pwd"
   ]
  },
  {
   "cell_type": "markdown",
   "metadata": {},
   "source": [
    "# Entity Folder\n",
    "1. Goto entity folder  src-> wine_quality -> entity-> __init__.py \n",
    "2. Paste below code in __init__.py constructor file"
   ]
  },
  {
   "cell_type": "code",
   "execution_count": 7,
   "metadata": {},
   "outputs": [],
   "source": [
    "from dataclasses import dataclass\n",
    "from pathlib import Path\n",
    "\n",
    "@dataclass(frozen=True)\n",
    "class ModelTrainerConfig:\n",
    "    root_dir: Path\n",
    "    train_data_path: Path\n",
    "    test_data_path: Path\n",
    "    model_name: str\n",
    "    alpha: float\n",
    "    l1_ratio: float\n",
    "    target_column: str"
   ]
  },
  {
   "cell_type": "markdown",
   "metadata": {},
   "source": [
    "# Config folder \n",
    "1. Copy get_model_trainer_config function \n",
    "2. Goto config folder src->wine_quality->config->configuration.py paste under ConfigurationManager class\n",
    "3. Import ModelTrainerConfig from textSummarizer.entity using this line  \n",
    "from wine_quality.entity import ModelTrainerConfig"
   ]
  },
  {
   "cell_type": "code",
   "execution_count": 8,
   "metadata": {},
   "outputs": [],
   "source": [
    "from wine_quality.constants import *\n",
    "from wine_quality.utils.common import read_yaml, create_directories"
   ]
  },
  {
   "cell_type": "code",
   "execution_count": 9,
   "metadata": {},
   "outputs": [],
   "source": [
    "class ConfigurationManager:\n",
    "    def __init__(\n",
    "        self,\n",
    "        config_filepath = CONFIG_FILE_PATH,\n",
    "        params_filepath = PARAMS_FILE_PATH,\n",
    "        schema_filepath = SCHEMA_FILE_PATH\n",
    "        ):\n",
    "\n",
    "        self.config = read_yaml(config_filepath)\n",
    "        self.params = read_yaml(params_filepath)\n",
    "        self.schema = read_yaml(schema_filepath)\n",
    "        create_directories([self.config.artifacts_root])\n",
    "\n",
    "\n",
    "    \n",
    "    def get_model_trainer_config(self) -> ModelTrainerConfig:\n",
    "        config = self.config.model_trainer\n",
    "        params = self.params.ElasticNet\n",
    "        schema =self.schema.TARGET_COLUMN\n",
    "\n",
    "        create_directories([config.root_dir])\n",
    "\n",
    "        model_trainer_config = ModelTrainerConfig(\n",
    "            root_dir = config.root_dir,\n",
    "            train_data_path = config.train_data_path,\n",
    "            test_data_path = config.test_data_path,\n",
    "            model_name=config.model_name,\n",
    "            alpha=params.alpha,\n",
    "            l1_ratio=params.l1_ratio,\n",
    "            target_column=schema.name\n",
    "        \n",
    "        )\n",
    "\n",
    "        return model_trainer_config"
   ]
  },
  {
   "cell_type": "markdown",
   "metadata": {},
   "source": [
    "# Component folder\n",
    "1. Copy entire ModelTrainer class\n",
    "2. Goto Component folder [ src-> textSummarizer -> components - > model_trainer.py ]\n",
    "2. Paste ModelTrainer class in model_trainer.py\n",
    "3. Import ModelTrainerConfig from entity using this line \n",
    "\n",
    "from textSummarizer.entity import ModelTrainerConfig"
   ]
  },
  {
   "cell_type": "code",
   "execution_count": 10,
   "metadata": {},
   "outputs": [],
   "source": [
    "import pandas as pd\n",
    "import os\n",
    "from wine_quality import logger\n",
    "from sklearn.linear_model import ElasticNet\n",
    "import joblib"
   ]
  },
  {
   "cell_type": "code",
   "execution_count": 11,
   "metadata": {},
   "outputs": [],
   "source": [
    "class ModelTrainer:\n",
    "    def __init__(self, config: ModelTrainerConfig):\n",
    "        self.config = config\n",
    "\n",
    "    \n",
    "    def train(self):\n",
    "        train_data = pd.read_csv(self.config.train_data_path)\n",
    "        test_data = pd.read_csv(self.config.test_data_path)\n",
    "\n",
    "\n",
    "        train_x = train_data.drop([self.config.target_column], axis=1)\n",
    "        test_x = test_data.drop([self.config.target_column], axis=1)\n",
    "        train_y = train_data[[self.config.target_column]]\n",
    "        test_y = test_data[[self.config.target_column]]\n",
    "\n",
    "\n",
    "        lr = ElasticNet(alpha=self.config.alpha, l1_ratio=self.config.l1_ratio, random_state=42)\n",
    "        lr.fit(train_x, train_y)\n",
    "\n",
    "        joblib.dump(lr, os.path.join(self.config.root_dir, self.config.model_name))"
   ]
  },
  {
   "cell_type": "markdown",
   "metadata": {},
   "source": [
    "# Pipeline folder\n",
    "\n",
    "1. Goto Component folder [ src-> textSummarizer -> pipeline - > stage_04_model_trainer.py ]\n",
    "\n",
    "2. Paste below code in stage_04_model_trainer.py"
   ]
  },
  {
   "cell_type": "code",
   "execution_count": 12,
   "metadata": {},
   "outputs": [],
   "source": [
    "# ''' \n",
    "# Example\n",
    "# from wine_quality import logger\n",
    "# from wine_quality.config import ConfigurationManager\n",
    "# from wine_quality.components.model_trainer import ModelTrainer\n",
    "# class ModelTrainerTrainingPipeline:\n",
    "#     def __init__(self):\n",
    "#         pass\n",
    "#     def main(self):\n",
    "        \n",
    "# '''"
   ]
  },
  {
   "cell_type": "markdown",
   "metadata": {},
   "source": [
    "3. Copy try block code \n",
    "4. Paste in main function in stage_04_model_trainer.py\n",
    "\n",
    "5. Import ModelTrainerConfig from config.configuration using this line  \n",
    "from wine_quality.config.configuration import ConfigurationManager\n",
    "\n",
    "6. Import ModelTrainer  from  components.model_trainer  using this line  \n",
    "from wine_quality.components.model_trainer  import ModelTrainer "
   ]
  },
  {
   "cell_type": "code",
   "execution_count": 13,
   "metadata": {},
   "outputs": [
    {
     "name": "stdout",
     "output_type": "stream",
     "text": [
      "[2023-09-17 21:56:23,649] - wine_quality - INFO - common file - LineNum:27   - yaml file : config\\config.yaml loaded successfully\n",
      "[2023-09-17 21:56:23,668] - wine_quality - INFO - common file - LineNum:27   - yaml file : params.yaml loaded successfully\n",
      "[2023-09-17 21:56:23,678] - wine_quality - INFO - common file - LineNum:27   - yaml file : schema.yaml loaded successfully\n",
      "[2023-09-17 21:56:23,682] - wine_quality - INFO - common file - LineNum:43   - Created Directory At: artifacts\n",
      "[2023-09-17 21:56:23,687] - wine_quality - INFO - common file - LineNum:43   - Created Directory At: artifacts/model_trainer\n"
     ]
    }
   ],
   "source": [
    "try:\n",
    "    config = ConfigurationManager()\n",
    "    model_trainer_config = config.get_model_trainer_config()\n",
    "    model_trainer_config = ModelTrainer(config=model_trainer_config)\n",
    "    model_trainer_config.train()\n",
    "except Exception as e:\n",
    "    raise e"
   ]
  },
  {
   "cell_type": "code",
   "execution_count": 14,
   "metadata": {},
   "outputs": [],
   "source": [
    "# '''\n",
    "# Example\n",
    "# from wine_quality.config import ConfigurationManager\n",
    "# from wine_quality.conponents.model_trainer import ModelTrainer\n",
    "# from wine_quality import logger\n",
    "\n",
    "\n",
    "# class ModelTrainerTrainingPipeline:\n",
    "#     def __init__(self):\n",
    "#         pass\n",
    "\n",
    "#     def main(self):\n",
    "#         config = ConfigurationManager()\n",
    "#         model_trainer_config = config.get_model_trainer_config()\n",
    "#         model_trainer_config = ModelTrainer(config=model_trainer_config)\n",
    "#         model_trainer_config.train()\n",
    "# '''"
   ]
  },
  {
   "cell_type": "code",
   "execution_count": 15,
   "metadata": {},
   "outputs": [],
   "source": [
    "# '''\n",
    "# 1. Goto main.py and paste below code\n",
    "# STAGE_NAME = \"Model Trainer stage\"\n",
    "# try: \n",
    "#    logger.info(f\"*******************\")\n",
    "#    logger.info(f\">>>>>> stage {STAGE_NAME} started <<<<<<\")\n",
    "#    model_trainer = ModelTrainerTrainingPipeline()\n",
    "#    model_trainer.main()\n",
    "#    logger.info(f\">>>>>> stage {STAGE_NAME} completed <<<<<<\\n\\nx==========x\")\n",
    "# except Exception as e:\n",
    "#         logger.exception(e)\n",
    "#         raise e\n",
    "\n",
    "# 2. Run main.py \n",
    "# '''"
   ]
  }
 ],
 "metadata": {
  "kernelspec": {
   "display_name": "Python 3.11.4 ('.venv': venv)",
   "language": "python",
   "name": "python3"
  },
  "language_info": {
   "codemirror_mode": {
    "name": "ipython",
    "version": 3
   },
   "file_extension": ".py",
   "mimetype": "text/x-python",
   "name": "python",
   "nbconvert_exporter": "python",
   "pygments_lexer": "ipython3",
   "version": "3.8.18"
  },
  "orig_nbformat": 4,
  "vscode": {
   "interpreter": {
    "hash": "a2363ffaf4cc94cb3c0af5a4c6a2efd4a24ad393a2e2f690143f566a349883dd"
   }
  }
 },
 "nbformat": 4,
 "nbformat_minor": 2
}
