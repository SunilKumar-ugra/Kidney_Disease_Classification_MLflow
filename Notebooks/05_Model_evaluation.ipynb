{
 "cells": [
  {
   "cell_type": "code",
   "execution_count": 1,
   "metadata": {},
   "outputs": [],
   "source": [
    "# '''\n",
    "# Goto config ->config.yaml\n",
    "# Paste below code\n",
    "\n",
    "# model_evaluation:\n",
    "#   root_dir: artifacts/model_evaluation\n",
    "#   data_path: artifacts/data_transformation/samsum_dataset\n",
    "#   model_path: artifacts/model_trainer/pegasus-samsum-model\n",
    "#   tokenizer_path: artifacts/model_trainer/tokenizer\n",
    "#   metric_file_name: artifacts/model_evaluation/metrics.csv\n",
    "# '''"
   ]
  },
  {
   "cell_type": "code",
   "execution_count": 2,
   "metadata": {},
   "outputs": [],
   "source": [
    "import os"
   ]
  },
  {
   "cell_type": "code",
   "execution_count": 3,
   "metadata": {},
   "outputs": [
    {
     "data": {
      "text/plain": [
       "'d:\\\\Project\\\\Wine_Quality_MLflow_AWS_CICD_Pipeline_End_to_End_Deployment\\\\research'"
      ]
     },
     "execution_count": 3,
     "metadata": {},
     "output_type": "execute_result"
    }
   ],
   "source": [
    "%pwd"
   ]
  },
  {
   "cell_type": "code",
   "execution_count": 4,
   "metadata": {},
   "outputs": [],
   "source": [
    "os.chdir(\"../\")"
   ]
  },
  {
   "cell_type": "code",
   "execution_count": 5,
   "metadata": {},
   "outputs": [
    {
     "data": {
      "text/plain": [
       "'d:\\\\Project\\\\Wine_Quality_MLflow_AWS_CICD_Pipeline_End_to_End_Deployment'"
      ]
     },
     "execution_count": 5,
     "metadata": {},
     "output_type": "execute_result"
    }
   ],
   "source": [
    "%pwd"
   ]
  },
  {
   "cell_type": "markdown",
   "metadata": {},
   "source": [
    "export MLFLOW_TRACKING_URI=https://dagshub.com/SunilKumar-ugra/Wine_Quality_MLflow_AWS_CICD_Pipeline_End_to_End_Deployment.mlflow\n",
    "\n",
    "export MLFLOW_TRACKING_USERNAME=SunilKumar-ugra\n",
    "\n",
    "export MLFLOW_TRACKING_PASSWORD=ff039c8b90d721cb1c7f99b788c8bfe02f4d345b"
   ]
  },
  {
   "cell_type": "code",
   "execution_count": 6,
   "metadata": {},
   "outputs": [],
   "source": [
    "os.environ[\"MLFLOW_TRACKING_URI\"]=\"https://dagshub.com/SunilKumar-ugra/Wine_Quality_MLflow_AWS_CICD_Pipeline_End_to_End_Deployment.mlflow\"\n",
    "os.environ[\"MLFLOW_TRACKING_USERNAME\"]=\"SunilKumar-ugra\"\n",
    "os.environ[\"MLFLOW_TRACKING_PASSWORD\"]=\"ff039c8b90d721cb1c7f99b788c8bfe02f4d345b\""
   ]
  },
  {
   "cell_type": "markdown",
   "metadata": {},
   "source": [
    "# Entity Folder\n",
    "1. Goto entity folder  src-> wine_quality -> entity-> __init__.py \n",
    "2. Paste below code in __init__.py constructor file"
   ]
  },
  {
   "cell_type": "code",
   "execution_count": 7,
   "metadata": {},
   "outputs": [],
   "source": [
    "from dataclasses import dataclass\n",
    "from pathlib import Path\n",
    "\n",
    "\n",
    "@dataclass(frozen=True)\n",
    "class ModelEvaluationConfig:\n",
    "    root_dir: Path\n",
    "    test_data_path: Path\n",
    "    all_params:dict\n",
    "    model_path: Path\n",
    "    metric_file_name: Path\n",
    "    target_column: str\n",
    "    mlflow_uri:str  "
   ]
  },
  {
   "cell_type": "markdown",
   "metadata": {},
   "source": [
    "# Config folder \n",
    "1. Copy get_model_evaluation_config function \n",
    "2. Goto config folder src->wine_quality->config->configuration.py paste under ConfigurationManager class\n",
    "3. Import ModelEvaluationConfig from wine_quality.entity using this line  \n",
    "\n",
    "from wine_quality.entity import ModelEvaluationConfig:\n"
   ]
  },
  {
   "cell_type": "code",
   "execution_count": 8,
   "metadata": {},
   "outputs": [],
   "source": [
    "from wine_quality.constants import *\n",
    "from wine_quality.utils import read_yaml, create_directories"
   ]
  },
  {
   "cell_type": "code",
   "execution_count": 9,
   "metadata": {},
   "outputs": [],
   "source": [
    "class ConfigurationManager:\n",
    "    def __init__(\n",
    "        self,\n",
    "        config_filepath = CONFIG_FILE_PATH,\n",
    "        params_filepath = PARAMS_FILE_PATH,\n",
    "        schema_filepath = SCHEMA_FILE_PATH\n",
    "        ):\n",
    "\n",
    "        self.config = read_yaml(config_filepath)\n",
    "        self.params = read_yaml(params_filepath)\n",
    "        self.schema = read_yaml(schema_filepath)\n",
    "        create_directories([self.config.artifacts_root])\n",
    "\n",
    "\n",
    "    \n",
    "    def get_model_evaluation_config(self) -> ModelEvaluationConfig:\n",
    "        config = self.config.model_evaluation\n",
    "        params = self.params.ElasticNet\n",
    "        schema = self.schema.TARGET_COLUMN\n",
    "\n",
    "        create_directories([config.root_dir])\n",
    "\n",
    "        model_evaluation_config = ModelEvaluationConfig(\n",
    "            root_dir=config.root_dir,\n",
    "            test_data_path=config.test_data_path,\n",
    "            model_path = config.model_path,\n",
    "            all_params = params,\n",
    "            metric_file_name = config.metric_file_name,\n",
    "            target_column =schema.name,\n",
    "            mlflow_uri=\"https://dagshub.com/SunilKumar-ugra/Wine_Quality_MLflow_AWS_CICD_Pipeline_End_to_End_Deployment.mlflow\"\n",
    "           )\n",
    "\n",
    "        return model_evaluation_config"
   ]
  },
  {
   "cell_type": "markdown",
   "metadata": {},
   "source": [
    "# Component folder\n",
    "1. Copy entire ModelEvaluation class\n",
    "2. Goto Component folder [ src-> textSummarizer -> components - > model_evaluation.py ]\n",
    "2. Paste ModelEvaluation class in model_evaluation.py\n",
    "3. Import model_evaluation_config from entity using this line \n",
    "\n",
    "from wine_quality.entity import model_evaluation_config"
   ]
  },
  {
   "cell_type": "code",
   "execution_count": 10,
   "metadata": {},
   "outputs": [
    {
     "name": "stderr",
     "output_type": "stream",
     "text": [
      "C:\\Users\\This PC\\AppData\\Roaming\\Python\\Python38\\site-packages\\pydantic\\_internal\\_fields.py:127: UserWarning: Field \"model_server_url\" has conflict with protected namespace \"model_\".\n",
      "\n",
      "You may be able to resolve this warning by setting `model_config['protected_namespaces'] = ()`.\n",
      "  warnings.warn(\n",
      "C:\\Users\\This PC\\AppData\\Roaming\\Python\\Python38\\site-packages\\pydantic\\_internal\\_config.py:269: UserWarning: Valid config keys have changed in V2:\n",
      "* 'schema_extra' has been renamed to 'json_schema_extra'\n",
      "  warnings.warn(message, UserWarning)\n"
     ]
    }
   ],
   "source": [
    "import os\n",
    "import pandas as pd\n",
    "from sklearn.metrics import mean_absolute_error,mean_squared_error,r2_score\n",
    "from urllib.parse import urlparse\n",
    "import mlflow\n",
    "import mlflow.sklearn\n",
    "import numpy as np\n",
    "import joblib\n",
    "from wine_quality.utils import save_json"
   ]
  },
  {
   "cell_type": "code",
   "execution_count": 11,
   "metadata": {},
   "outputs": [],
   "source": [
    "class ModelEvaluation:\n",
    "    def __init__(self, config: ModelEvaluationConfig):\n",
    "        self.config = config\n",
    "\n",
    "    \n",
    "    def eval_metrics(self,actual, pred):\n",
    "        rmse = np.sqrt(mean_squared_error(actual, pred))\n",
    "        mae = mean_absolute_error(actual, pred)\n",
    "        r2 = r2_score(actual, pred)\n",
    "        return rmse, mae, r2\n",
    "    \n",
    "\n",
    "\n",
    "    def log_into_mlflow(self):\n",
    "\n",
    "        test_data = pd.read_csv(self.config.test_data_path)\n",
    "        model = joblib.load(self.config.model_path)\n",
    "\n",
    "        test_x = test_data.drop([self.config.target_column], axis=1)\n",
    "        test_y = test_data[[self.config.target_column]]\n",
    "\n",
    "\n",
    "        mlflow.set_registry_uri(self.config.mlflow_uri)\n",
    "        tracking_url_type_store = urlparse(mlflow.get_tracking_uri()).scheme\n",
    "\n",
    "\n",
    "        with mlflow.start_run():\n",
    "\n",
    "            predicted_qualities = model.predict(test_x)\n",
    "\n",
    "            (rmse, mae, r2) = self.eval_metrics(test_y, predicted_qualities)\n",
    "            \n",
    "            # Saving metrics as local\n",
    "            scores = {\"rmse\": rmse, \"mae\": mae, \"r2\": r2}\n",
    "            save_json(path=Path(self.config.metric_file_name), data=scores)\n",
    "\n",
    "            mlflow.log_params(self.config.all_params)\n",
    "\n",
    "            mlflow.log_metric(\"rmse\", rmse)\n",
    "            mlflow.log_metric(\"r2\", r2)\n",
    "            mlflow.log_metric(\"mae\", mae)\n",
    "\n",
    "\n",
    "            # Model registry does not work with file store\n",
    "            if tracking_url_type_store != \"file\":\n",
    "\n",
    "                # Register the model\n",
    "                # There are other ways to use the Model Registry, which depends on the use case,\n",
    "                # please refer to the doc for more information:\n",
    "                # https://mlflow.org/docs/latest/model-registry.html#api-workflow\n",
    "                mlflow.sklearn.log_model(model, \"model\", registered_model_name=\"ElasticnetModel\")\n",
    "            else:\n",
    "                mlflow.sklearn.log_model(model, \"model\")"
   ]
  },
  {
   "cell_type": "markdown",
   "metadata": {},
   "source": [
    "# Pipeline folder\n",
    "\n",
    "1. Goto Component folder [ src-> textSummarizer -> pipeline - > stage_05_model_evaluation.py ]\n",
    "\n",
    "2. Paste below code in stage_05_model_evaluation.py"
   ]
  },
  {
   "cell_type": "code",
   "execution_count": 12,
   "metadata": {},
   "outputs": [
    {
     "data": {
      "text/plain": [
       "' \\n\\nfrom wine_quality import logger\\nfrom wine_quality.config. import ConfigurationManager\\nfrom wine_quality.components.model_evaluation import ModelEvaluation\\nclass ModelTrainerTrainingPipeline:\\n    def __init__(self):\\n        pass\\n    def main(self):\\n'"
      ]
     },
     "execution_count": 12,
     "metadata": {},
     "output_type": "execute_result"
    }
   ],
   "source": [
    "''' \n",
    "\n",
    "from wine_quality import logger\n",
    "from wine_quality.config. import ConfigurationManager\n",
    "from wine_quality.components.model_evaluation import ModelEvaluation\n",
    "class ModelTrainerTrainingPipeline:\n",
    "    def __init__(self):\n",
    "        pass\n",
    "    def main(self):\n",
    "'''"
   ]
  },
  {
   "cell_type": "markdown",
   "metadata": {},
   "source": [
    "3. Copy try block code \n",
    "4. Paste in main function in stage_05_model_evaluation.py\n",
    "\n",
    "5. Import ConfigurationManager from config.configuration using this line  \n",
    "from wine_quality.config.configuration import ConfigurationManager\n",
    "\n",
    "6. Import ModelTrainer  from  components.model_trainer  using this line  \n",
    "from wine_quality.components..model_evaluation  import class ModelEvaluation:\n"
   ]
  },
  {
   "cell_type": "code",
   "execution_count": 13,
   "metadata": {},
   "outputs": [],
   "source": [
    "from wine_quality import logger"
   ]
  },
  {
   "cell_type": "code",
   "execution_count": 15,
   "metadata": {},
   "outputs": [
    {
     "name": "stdout",
     "output_type": "stream",
     "text": [
      "[2023-09-18 00:31:49,803] - wine_quality - INFO - __init__ file - LineNum:27   - yaml file : config\\config.yaml loaded successfully\n",
      "[2023-09-18 00:31:49,810] - wine_quality - INFO - __init__ file - LineNum:27   - yaml file : params.yaml loaded successfully\n",
      "[2023-09-18 00:31:49,819] - wine_quality - INFO - __init__ file - LineNum:27   - yaml file : schema.yaml loaded successfully\n",
      "[2023-09-18 00:31:49,826] - wine_quality - INFO - __init__ file - LineNum:43   - Created Directory At: artifacts\n",
      "[2023-09-18 00:31:49,829] - wine_quality - INFO - __init__ file - LineNum:43   - Created Directory At: artifacts/model_evaluation\n"
     ]
    },
    {
     "name": "stdout",
     "output_type": "stream",
     "text": [
      "[2023-09-18 00:31:51,967] - wine_quality - INFO - __init__ file - LineNum:55   - JSON File Saved At artifacts\\model_evaluation\\metrics.json\n"
     ]
    },
    {
     "name": "stderr",
     "output_type": "stream",
     "text": [
      "Successfully registered model 'ElasticnetModel'.\n",
      "2023/09/18 00:32:10 INFO mlflow.tracking._model_registry.client: Waiting up to 300 seconds for model version to finish creation. Model name: ElasticnetModel, version 1\n",
      "Created version '1' of model 'ElasticnetModel'.\n"
     ]
    }
   ],
   "source": [
    "try:\n",
    "    config = ConfigurationManager()\n",
    "    model_evaluation_config = config.get_model_evaluation_config()\n",
    "    model_evaluation_config = ModelEvaluation(config=model_evaluation_config)\n",
    "    model_evaluation_config.log_into_mlflow()\n",
    "except Exception as e:\n",
    "    logger.exception(e)\n",
    "    raise e"
   ]
  },
  {
   "cell_type": "code",
   "execution_count": null,
   "metadata": {},
   "outputs": [],
   "source": [
    "'''\n",
    "Example\n",
    "from wine_quality.config import ConfigurationManager\n",
    "from wine_quality.components.model_evaluation import ModelEvaluation\n",
    "from wine_quality import logger\n",
    "\n",
    "\n",
    "\n",
    "\n",
    "class ModelEvaluationTrainingPipeline:\n",
    "    def __init__(self):\n",
    "        pass\n",
    "\n",
    "    def main(self):\n",
    "        config = ConfigurationManager()\n",
    "        model_evaluation_config = config.get_model_evaluation_config()\n",
    "        model_evaluation_config = ModelEvaluation(config=model_evaluation_config)\n",
    "        model_evaluation_config.evaluate()\n",
    "'''"
   ]
  },
  {
   "cell_type": "code",
   "execution_count": null,
   "metadata": {},
   "outputs": [],
   "source": [
    "'''\n",
    "\n",
    "1. Goto main.py and paste below code\n",
    "\n",
    "STAGE_NAME = \"Model Evaluation stage\"\n",
    "try: \n",
    "   logger.info(f\"*******************\")\n",
    "   logger.info(f\">>>>>> stage {STAGE_NAME} started <<<<<<\")\n",
    "   model_evaluation = ModelEvaluationTrainingPipeline()\n",
    "   model_evaluation.main()\n",
    "   logger.info(f\">>>>>> stage {STAGE_NAME} completed <<<<<<\\n\\nx==========x\")\n",
    "except Exception as e:\n",
    "        logger.exception(e)\n",
    "        raise e\n",
    "\n",
    "2. Run main.py \n",
    "        \n",
    "'''"
   ]
  }
 ],
 "metadata": {
  "kernelspec": {
   "display_name": "Python 3.11.4 ('.venv': venv)",
   "language": "python",
   "name": "python3"
  },
  "language_info": {
   "codemirror_mode": {
    "name": "ipython",
    "version": 3
   },
   "file_extension": ".py",
   "mimetype": "text/x-python",
   "name": "python",
   "nbconvert_exporter": "python",
   "pygments_lexer": "ipython3",
   "version": "3.8.18"
  },
  "orig_nbformat": 4,
  "vscode": {
   "interpreter": {
    "hash": "a2363ffaf4cc94cb3c0af5a4c6a2efd4a24ad393a2e2f690143f566a349883dd"
   }
  }
 },
 "nbformat": 4,
 "nbformat_minor": 2
}
