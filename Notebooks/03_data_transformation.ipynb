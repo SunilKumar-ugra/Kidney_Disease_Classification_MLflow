{
 "cells": [
  {
   "cell_type": "code",
   "execution_count": 1,
   "metadata": {},
   "outputs": [],
   "source": [
    "# '''\n",
    "# Goto config ->config.yaml\n",
    "# Paste below code\n",
    "\n",
    "# data_transformation:\n",
    "#   root_dir: artifacts/data_transformation\n",
    "#   data_path: artifacts/data_ingestion/winequality-red.csv\n",
    "# '''"
   ]
  },
  {
   "cell_type": "code",
   "execution_count": 2,
   "metadata": {},
   "outputs": [],
   "source": [
    "import os"
   ]
  },
  {
   "cell_type": "code",
   "execution_count": 3,
   "metadata": {},
   "outputs": [
    {
     "data": {
      "text/plain": [
       "'d:\\\\Project\\\\Wine_Quality_MLflow_AWS_CICD_Pipeline_End_to_End_Deployment\\\\research'"
      ]
     },
     "execution_count": 3,
     "metadata": {},
     "output_type": "execute_result"
    }
   ],
   "source": [
    "%pwd"
   ]
  },
  {
   "cell_type": "code",
   "execution_count": 4,
   "metadata": {},
   "outputs": [],
   "source": [
    "os.chdir(\"../\")"
   ]
  },
  {
   "cell_type": "code",
   "execution_count": 5,
   "metadata": {},
   "outputs": [
    {
     "data": {
      "text/plain": [
       "'d:\\\\Project\\\\Wine_Quality_MLflow_AWS_CICD_Pipeline_End_to_End_Deployment'"
      ]
     },
     "execution_count": 5,
     "metadata": {},
     "output_type": "execute_result"
    }
   ],
   "source": [
    "%pwd"
   ]
  },
  {
   "cell_type": "markdown",
   "metadata": {},
   "source": [
    "# Entity Folder\n",
    "1. Goto entity folder  src-> wine_quality -> entity-> __init__.py \n",
    "2. Paste below code in __init__.py constructor file"
   ]
  },
  {
   "cell_type": "code",
   "execution_count": 6,
   "metadata": {},
   "outputs": [],
   "source": [
    "from dataclasses import dataclass\n",
    "from pathlib import Path\n",
    "\n",
    "\n",
    "@dataclass(frozen=True)\n",
    "class DataTransformationConfig:\n",
    "    root_dir: Path\n",
    "    data_path: Path"
   ]
  },
  {
   "cell_type": "markdown",
   "metadata": {},
   "source": [
    "# Config folder \n",
    "1. Copy get_data_transformation_config function \n",
    "2. Goto config folder src->wine_quality->config->configuration.py paste under ConfigurationManager class\n",
    "3. Import DataTransformationConfig from wine_quality.entity using this line  \n",
    "from wine_quality.entity import DataTransformationConfig"
   ]
  },
  {
   "cell_type": "code",
   "execution_count": 7,
   "metadata": {},
   "outputs": [],
   "source": [
    "from wine_quality.constants import *\n",
    "from wine_quality.utils import read_yaml, create_directories"
   ]
  },
  {
   "cell_type": "code",
   "execution_count": 8,
   "metadata": {},
   "outputs": [],
   "source": [
    "class ConfigurationManager:\n",
    "    def __init__(\n",
    "        self,\n",
    "        config_filepath = CONFIG_FILE_PATH,\n",
    "        params_filepath = PARAMS_FILE_PATH,\n",
    "        schema_filepath = SCHEMA_FILE_PATH\n",
    "        ):\n",
    "\n",
    "        self.config = read_yaml(config_filepath)\n",
    "        self.params = read_yaml(params_filepath)\n",
    "        self.schema = read_yaml(schema_filepath)\n",
    "        create_directories([self.config.artifacts_root])\n",
    "\n",
    "\n",
    "    \n",
    "    def get_data_transformation_config(self) -> DataTransformationConfig:\n",
    "        config = self.config.data_transformation\n",
    "\n",
    "        create_directories([config.root_dir])\n",
    "\n",
    "        data_transformation_config = DataTransformationConfig(\n",
    "            root_dir=config.root_dir,\n",
    "            data_path=config.data_path,\n",
    "            \n",
    "        )\n",
    "\n",
    "        return data_transformation_config"
   ]
  },
  {
   "cell_type": "markdown",
   "metadata": {},
   "source": [
    "# Component folder\n",
    "1. Copy entire DataTransformation class\n",
    "2. Goto Component folder [ src-> wine_quality -> components - > data_transformation.py ]\n",
    "2. Paste DataTransformation class in data_transformation.py\n",
    "3. Import DataTransformationConfig from entity using this line \n",
    "\n",
    "from wine_quality.entity import DataTransformationConfig"
   ]
  },
  {
   "cell_type": "code",
   "execution_count": 9,
   "metadata": {},
   "outputs": [],
   "source": [
    "import os\n",
    "from wine_quality import logger\n",
    "from sklearn.model_selection import train_test_split\n",
    "import pandas as pd"
   ]
  },
  {
   "cell_type": "code",
   "execution_count": 10,
   "metadata": {},
   "outputs": [],
   "source": [
    "class DataTransformation:\n",
    "    def __init__(self, config: DataTransformationConfig):\n",
    "        self.config = config\n",
    "\n",
    "    \n",
    "    ## Note: You can add different data transformation techniques such as Scaler, PCA and all\n",
    "    #You can perform all kinds of EDA in ML cycle here before passing this data to the model\n",
    "\n",
    "    # I am only adding train_test_spliting cz this data is already cleaned up\n",
    "\n",
    "\n",
    "    def train_test_spliting(self):\n",
    "        data = pd.read_csv(self.config.data_path)\n",
    "\n",
    "        # Split the data into training and test sets. (0.75, 0.25) split.\n",
    "        train, test = train_test_split(data)\n",
    "\n",
    "        train.to_csv(os.path.join(self.config.root_dir, \"train.csv\"),index = False)\n",
    "        test.to_csv(os.path.join(self.config.root_dir, \"test.csv\"),index = False)\n",
    "\n",
    "        logger.info(\"Splited data into training and test sets\")\n",
    "        logger.info(train.shape)\n",
    "        logger.info(test.shape)\n",
    "\n",
    "        print(train.shape)\n",
    "        print(test.shape)"
   ]
  },
  {
   "cell_type": "markdown",
   "metadata": {},
   "source": [
    "# Pipeline folder\n",
    "\n",
    "1. Goto Component folder [ src-> wine_quality -> pipeline - > stage_03_data_transformation.py ]\n",
    "\n",
    "2. Paste below code in stage_03_data_transformation.py"
   ]
  },
  {
   "cell_type": "code",
   "execution_count": 15,
   "metadata": {},
   "outputs": [],
   "source": [
    "\n",
    "# from wine_quality import logger\n",
    "# from wine_quality.config import ConfigurationManager\n",
    "# from wine_quality.components.data_transformation import DataTransformation\n",
    "# class DataTransformationTrainingPipeline:\n",
    "#     def __init__(self):\n",
    "#         pass\n",
    "#     def main(self):\n",
    "        "
   ]
  },
  {
   "cell_type": "markdown",
   "metadata": {},
   "source": [
    "3. Copy try block code \n",
    "4. Paste in main function in stage_03_data_transformation.py\n",
    "\n",
    "5. Import ConfigurationManager from config.configuration using this line  \n",
    "from wine_quality.config.configuration import ConfigurationManager\n",
    "\n",
    "6. Import data_transformation from  components.data_validation using this line  \n",
    "from wine_quality.components.data_transformation import DataTransformation"
   ]
  },
  {
   "cell_type": "code",
   "execution_count": 12,
   "metadata": {},
   "outputs": [
    {
     "name": "stdout",
     "output_type": "stream",
     "text": [
      "[2023-09-17 21:16:25,470] - wine_quality - INFO - __init__ file - LineNum:27   - yaml file : config\\config.yaml loaded successfully\n",
      "[2023-09-17 21:16:25,475] - wine_quality - INFO - __init__ file - LineNum:27   - yaml file : params.yaml loaded successfully\n",
      "[2023-09-17 21:16:25,488] - wine_quality - INFO - __init__ file - LineNum:27   - yaml file : schema.yaml loaded successfully\n",
      "[2023-09-17 21:16:25,491] - wine_quality - INFO - __init__ file - LineNum:43   - Created Directory At: artifacts\n",
      "[2023-09-17 21:16:25,494] - wine_quality - INFO - __init__ file - LineNum:43   - Created Directory At: artifacts/data_transformation\n",
      "[2023-09-17 21:16:25,563] - wine_quality - INFO - 2148425976 file - LineNum:21   - Splited data into training and test sets\n",
      "[2023-09-17 21:16:25,567] - wine_quality - INFO - 2148425976 file - LineNum:22   - (1199, 12)\n",
      "[2023-09-17 21:16:25,569] - wine_quality - INFO - 2148425976 file - LineNum:23   - (400, 12)\n",
      "(1199, 12)\n",
      "(400, 12)\n"
     ]
    }
   ],
   "source": [
    "try:\n",
    "    config = ConfigurationManager()\n",
    "    data_transformation_config = config.get_data_transformation_config()\n",
    "    data_transformation = DataTransformation(config=data_transformation_config)\n",
    "    data_transformation.train_test_spliting()\n",
    "except Exception as e:\n",
    "    raise e"
   ]
  },
  {
   "cell_type": "code",
   "execution_count": 13,
   "metadata": {},
   "outputs": [],
   "source": [
    "\n",
    "# Example \n",
    "# from wine_quality.config.configuration import ConfigurationManager\n",
    "# from wine_quality.components.data_transformation import DataTransformation\n",
    "# from wine_quality import logger\n",
    "# class DataTransformationTrainingPipeline:\n",
    "#     def __init__(self):\n",
    "#         pass\n",
    "\n",
    "#     def main(self):\n",
    "#         config = ConfigurationManager()\n",
    "#         data_transformation_config = config.get_data_transformation_config()\n",
    "#         data_transformation = DataTransformation(config=data_transformation_config)\n",
    "#         data_transformation.train_test_spliting()\n",
    "\n"
   ]
  },
  {
   "cell_type": "code",
   "execution_count": 14,
   "metadata": {},
   "outputs": [],
   "source": [
    "#1. Goto main.py and paste below code\n",
    "\n",
    "\n",
    "# STAGE_NAME = \"Data Transformation stage\"\n",
    "# try:\n",
    "#    logger.info(f\">>>>>> stage {STAGE_NAME} started <<<<<<\") \n",
    "#    data_transformation = DataTransformationTrainingPipeline()\n",
    "#    data_transformation.main()\n",
    "#    logger.info(f\">>>>>> stage {STAGE_NAME} completed <<<<<<\\n\\nx==========x\")\n",
    "# except Exception as e:\n",
    "#         logger.exception(e)\n",
    "#         raise e\n",
    "\n",
    "\n",
    "#  Run main.py \n"
   ]
  }
 ],
 "metadata": {
  "kernelspec": {
   "display_name": "Python 3.11.4 ('.venv': venv)",
   "language": "python",
   "name": "python3"
  },
  "language_info": {
   "codemirror_mode": {
    "name": "ipython",
    "version": 3
   },
   "file_extension": ".py",
   "mimetype": "text/x-python",
   "name": "python",
   "nbconvert_exporter": "python",
   "pygments_lexer": "ipython3",
   "version": "3.8.18"
  },
  "orig_nbformat": 4,
  "vscode": {
   "interpreter": {
    "hash": "a2363ffaf4cc94cb3c0af5a4c6a2efd4a24ad393a2e2f690143f566a349883dd"
   }
  }
 },
 "nbformat": 4,
 "nbformat_minor": 2
}
