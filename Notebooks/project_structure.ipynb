{
 "cells": [
  {
   "cell_type": "code",
   "execution_count": 1,
   "metadata": {},
   "outputs": [],
   "source": [
    "import os \n",
    "from pathlib import Path\n",
    "import logging"
   ]
  },
  {
   "cell_type": "code",
   "execution_count": 2,
   "metadata": {},
   "outputs": [
    {
     "data": {
      "text/plain": [
       "'f:\\\\ML_Ops_learning\\\\Kidney_Disease_Classification_MLflow\\\\Notebooks'"
      ]
     },
     "execution_count": 2,
     "metadata": {},
     "output_type": "execute_result"
    }
   ],
   "source": [
    "%pwd"
   ]
  },
  {
   "cell_type": "code",
   "execution_count": 3,
   "metadata": {},
   "outputs": [],
   "source": [
    "os.chdir(\"../\")"
   ]
  },
  {
   "cell_type": "code",
   "execution_count": 4,
   "metadata": {},
   "outputs": [
    {
     "data": {
      "text/plain": [
       "'f:\\\\ML_Ops_learning\\\\Kidney_Disease_Classification_MLflow'"
      ]
     },
     "execution_count": 4,
     "metadata": {},
     "output_type": "execute_result"
    }
   ],
   "source": [
    "%pwd"
   ]
  },
  {
   "cell_type": "code",
   "execution_count": 2,
   "metadata": {},
   "outputs": [],
   "source": [
    "project_name=\"Kidney_Disease_CnnClf\"\n",
    "\n",
    "list_of_files = [\n",
    "    \".github/workflows/.gitkeep\",\n",
    "    f\"src/{project_name}/__init__.py\",\n",
    "    \n",
    "    f\"src/{project_name}/components/__init__.py\",\n",
    "    f\"src/{project_name}/components/data_ingestion.py\",\n",
    "    f\"src/{project_name}/components/data_validation.py\",\n",
    "    f\"src/{project_name}/components/data_transformation.py\",\n",
    "    f\"src/{project_name}/components/model_trainer.py\",\n",
    "    f\"src/{project_name}/components/model_evaluation.py\",\n",
    "    \n",
    "    f\"src/{project_name}/config/__init__.py\",\n",
    "    \n",
    "    f\"src/{project_name}/constants/__init__.py\",\n",
    "\n",
    "    f\"src/{project_name}/entity/__init__.py\",\n",
    "\n",
    "    f\"src/{project_name}/pipeline/__init__.py\",\n",
    "    f\"src/{project_name}/pipeline/stage_01_data_ingestion.py\",\n",
    "    f\"src/{project_name}/pipeline/stage_02_data_validation.py\",\n",
    "    f\"src/{project_name}/pipeline/stage_03_data_transformation.py\",\n",
    "    f\"src/{project_name}/pipeline/stage_04_model_trainer.py\",\n",
    "    f\"src/{project_name}/pipeline/stage_05_model_evaluation.py\",\n",
    "    \n",
    "    f\"src/{project_name}/utils/__init__.py\",    \n",
    "    \"config/config.yaml\",\n",
    "    \"params.yaml\",\n",
    "    \"dvc.yaml\",\n",
    "    \"requirements.txt\",\n",
    "    \"setup.py\",\n",
    "    \"templates/index.html\",\n",
    "    \"app.py\",\n",
    "    \"main.py\",\n",
    "]"
   ]
  },
  {
   "cell_type": "code",
   "execution_count": 3,
   "metadata": {},
   "outputs": [],
   "source": [
    "for filepath in list_of_files:\n",
    "    filepath = Path(filepath)\n",
    "    filedir, filename = os.path.split(filepath)\n",
    "\n",
    "    if filedir != \"\":\n",
    "        os.makedirs(filedir, exist_ok=True)\n",
    "        logging.info(f\"Creating directory:{filedir} for the file {filename}\")\n",
    "    \n",
    "    if (not os.path.exists(filepath)) or (os.path.getsize(filepath) == 0):\n",
    "        with open(filepath,'w') as f:\n",
    "            pass\n",
    "            logging.info(f\"Creating empty file: {filepath}\")\n",
    "    else:\n",
    "        logging.info(f\"{filename} is already exists\")"
   ]
  },
  {
   "cell_type": "markdown",
   "metadata": {},
   "source": [
    "## requirement.txt"
   ]
  },
  {
   "cell_type": "code",
   "execution_count": 4,
   "metadata": {},
   "outputs": [
    {
     "name": "stdout",
     "output_type": "stream",
     "text": [
      "Appending to requirements.txt\n"
     ]
    }
   ],
   "source": [
    "%%writefile -a requirements.txt\n",
    "pandas\n",
    "mlflow\n",
    "notebook\n",
    "numpy\n",
    "scikit-learn\n",
    "matplotlib\n",
    "python-box\n",
    "pyYAML\n",
    "tqdm\n",
    "ensure\n",
    "joblib\n",
    "types-PyYAML\n",
    "Flask\n",
    "Flask-Cors\n",
    "-e .\n"
   ]
  },
  {
   "cell_type": "markdown",
   "metadata": {},
   "source": [
    "# setup.py"
   ]
  },
  {
   "cell_type": "code",
   "execution_count": 7,
   "metadata": {},
   "outputs": [
    {
     "name": "stdout",
     "output_type": "stream",
     "text": [
      "Appending to setup.py\n"
     ]
    }
   ],
   "source": [
    "%%writefile -a setup.py\n",
    "import setuptools\n",
    "\n",
    "with open(\"README.md\", \"r\", encoding=\"utf-8\") as f:\n",
    "    long_description = f.read()\n",
    "\n",
    "\n",
    "__version__ = \"0.0.0\"\n",
    "\n",
    "REPO_NAME = \"Loan_Predication_MLflow_AWS_CICD_Pipeline_End_to_End_Deployment\"\n",
    "AUTHOR_USER_NAME = \"SunilKumar-ugra\"\n",
    "SRC_REPO = \"loan\"\n",
    "AUTHOR_EMAIL = \"ugargolsunilkumar@gmail.com\"\n",
    "\n",
    "\n",
    "\n",
    "setuptools.setup(\n",
    "    name=SRC_REPO,\n",
    "    version=__version__,\n",
    "    author=AUTHOR_USER_NAME,\n",
    "    author_email=AUTHOR_EMAIL,\n",
    "    description=\"A small python package for loan app\",\n",
    "    long_description=long_description,\n",
    "    long_description_content=\"text/markdown\",\n",
    "    url=f\"https://github.com/{AUTHOR_USER_NAME}/{REPO_NAME}\",\n",
    "    project_urls={\n",
    "        \"Bug Tracker\": f\"https://github.com/{AUTHOR_USER_NAME}/{REPO_NAME}/issues\",\n",
    "    },\n",
    "    package_dir={\"\": \"src\"},\n",
    "    packages=setuptools.find_packages(where=\"src\")\n",
    ")"
   ]
  },
  {
   "cell_type": "markdown",
   "metadata": {},
   "source": [
    "## Custom Logging"
   ]
  },
  {
   "cell_type": "code",
   "execution_count": 9,
   "metadata": {},
   "outputs": [
    {
     "name": "stdout",
     "output_type": "stream",
     "text": [
      "Appending to src/wine_quality/__init__.py\n"
     ]
    }
   ],
   "source": [
    "%%writefile -a src/wine_quality/__init__.py\n",
    "import logging\n",
    "import os\n",
    "from datetime import datetime\n",
    "import sys\n",
    "\n",
    "LOG_FILE=f\"{datetime.now().strftime('%m_%d_%Y_%H_%M_%S')}.log\"\n",
    "logs_path=os.path.join(os.getcwd(),\"logs\",LOG_FILE)\n",
    "os.makedirs(logs_path,exist_ok=True)\n",
    "\n",
    "LOG_FILE_PATH=os.path.join(logs_path,LOG_FILE)\n",
    "\n",
    "logging.basicConfig(\n",
    "    format=\"[%(asctime)s] - %(name)s - %(levelname)s - %(module)s file - LineNum:%(lineno)d   - %(message)s\",\n",
    "    level=logging.INFO,\n",
    "    handlers=[\n",
    "        logging.FileHandler(LOG_FILE_PATH),\n",
    "        logging.StreamHandler(sys.stdout)\n",
    "    ]\n",
    ")\n",
    "\n",
    "logger=logging.getLogger(\"wine_quality\")"
   ]
  },
  {
   "cell_type": "markdown",
   "metadata": {},
   "source": [
    "## Utility"
   ]
  },
  {
   "cell_type": "code",
   "execution_count": 10,
   "metadata": {},
   "outputs": [
    {
     "name": "stdout",
     "output_type": "stream",
     "text": [
      "Appending to src/wine_quality/utils/__init__.py\n"
     ]
    }
   ],
   "source": [
    "%%writefile -a src/wine_quality/utils/__init__.py\n",
    "import os \n",
    "from box.exceptions import BoxValueError\n",
    "import yaml\n",
    "from wine_quality import logger\n",
    "import json\n",
    "import joblib\n",
    "from ensure import ensure_annotations\n",
    "from box import ConfigBox\n",
    "from pathlib import Path\n",
    "from typing import Any\n",
    "\n",
    "@ensure_annotations\n",
    "def read_yaml(path_to_yaml: Path)->ConfigBox:\n",
    "    \"\"\"\n",
    "    Reads yaml file and returns\n",
    "    Args:\n",
    "        path_to_yaml (str): path like input\n",
    "    Raises:\n",
    "        ValueError: if yaml file is empty\n",
    "        e: empty file\n",
    "    Returns:\n",
    "        ConfigBox: ConfigBox type\n",
    "    \"\"\"\n",
    "    try:\n",
    "        with open(path_to_yaml) as yaml_file:\n",
    "            content =yaml.safe_load(yaml_file)\n",
    "            logger.info(f\"yaml file : {path_to_yaml} loaded successfully\")\n",
    "            return ConfigBox(content)\n",
    "    except BoxValueError:\n",
    "        raise ValueError(\"YAML file is Empty\")\n",
    "\n",
    "@ensure_annotations\n",
    "def create_directories(path_to_directories: list, verbose=True):\n",
    "    \"\"\"\n",
    "    Create list of directories\n",
    "    Args:\n",
    "        path_to_directories (list): list of path of directories\n",
    "        ignore_log (bool, optional): ignore if multiple dirs is to be created. Defaults to False.\n",
    "    \"\"\"\n",
    "    for path in path_to_directories:\n",
    "        os.makedirs(path, exist_ok=True)\n",
    "        if verbose:\n",
    "            logger.info(f\"Created Directory At: {path}\")\n",
    "\n",
    "@ensure_annotations\n",
    "def save_json(path: Path,data:dict):\n",
    "    \"\"\"\n",
    "    Save JSON data\n",
    "    Args:\n",
    "        path(Path): path to json file\n",
    "        data(dict): data to be saved in json file\n",
    "    \"\"\"\n",
    "    with open(path,\"w\") as f:\n",
    "        json.dump(data,f,indent=4)\n",
    "    logger.info(f\"JSON File Saved At {path}\")\n",
    "\n",
    "@ensure_annotations\n",
    "def load_json(path: Path)->ConfigBox:\n",
    "    \"\"\"\n",
    "    Load JSON files data\n",
    "    Args:\n",
    "        path(Path): path to json file\n",
    "    Returns:\n",
    "        ConfigBox: data as class attributes instead of dict\n",
    "    \"\"\"\n",
    "    with open(path) as f:\n",
    "        content=json.load(f)\n",
    "    logger.info(f\"JSON File Loaded Succesfully From  {path}\")\n",
    "    return ConfigBox(content)\n",
    "\n",
    "@ensure_annotations\n",
    "def save_bin(data:Any,path:Path):\n",
    "    \"\"\"\n",
    "    Save binary file\n",
    "    Args:\n",
    "        data(Any): data to be saved as binary\n",
    "        path(Path): path to binary file\n",
    "    \"\"\"\n",
    "    json.dump(value=data, filename=path)\n",
    "    logger.info(f\"Binary File Saved At {path}\")\n",
    "\n",
    "@ensure_annotations\n",
    "def load_bin(path:Path):\n",
    "    \"\"\"\n",
    "    Load binary file\n",
    "    Args:\n",
    "        path(Path): path to binary file\n",
    "    Returns:\n",
    "        Any:object stored in the file\n",
    "    \"\"\"\n",
    "    data =joblib.load(path)\n",
    "    logger.info(f\"Binary File Loaded From {path}\")\n",
    "    return data\n",
    "\n",
    "@ensure_annotations\n",
    "def get_size(path: Path) -> str:\n",
    "    \"\"\"\n",
    "    Get size in KB\n",
    "    Args:\n",
    "        path (Path): path of the file\n",
    "    Returns:\n",
    "        str: size in KB\n",
    "    \"\"\"\n",
    "    size_in_kb = round(os.path.getsize(path)/1024)\n",
    "    return f\"~ {size_in_kb} KB\""
   ]
  },
  {
   "cell_type": "markdown",
   "metadata": {},
   "source": [
    "## Intializing Path in Constant Constructor File"
   ]
  },
  {
   "cell_type": "code",
   "execution_count": 11,
   "metadata": {},
   "outputs": [
    {
     "name": "stdout",
     "output_type": "stream",
     "text": [
      "Overwriting src/wine_quality/constants/__init__.py\n"
     ]
    }
   ],
   "source": [
    "%%writefile  src/wine_quality/constants/__init__.py\n",
    "from pathlib import Path\n",
    "CONFIG_FILE_PATH = Path(\"config/config.yaml\")\n",
    "PARAMS_FILE_PATH = Path(\"params.yaml\")\n",
    "SCHEMA_FILE_PATH = Path(\"schema.yaml\")"
   ]
  },
  {
   "cell_type": "markdown",
   "metadata": {},
   "source": [
    "## Schema YAML"
   ]
  },
  {
   "cell_type": "code",
   "execution_count": 12,
   "metadata": {},
   "outputs": [
    {
     "name": "stdout",
     "output_type": "stream",
     "text": [
      "Overwriting schema.yaml\n"
     ]
    }
   ],
   "source": [
    "%%writefile schema.yaml\n",
    "COLUMNS:\n",
    "  fixed acidity: float64\n",
    "  volatile acidity: float64\n",
    "  citric acid: float64\n",
    "  residual sugar: float64\n",
    "  chlorides: float64\n",
    "  free sulfur dioxide: float64\n",
    "  total sulfur dioxide: float64\n",
    "  density: float64\n",
    "  pH: float64\n",
    "  sulphates: float64\n",
    "  alcohol: float64\n",
    "  quality: int64\n",
    "\n",
    "\n",
    "TARGET_COLUMN:\n",
    "  name: quality\n",
    "  "
   ]
  },
  {
   "cell_type": "markdown",
   "metadata": {},
   "source": [
    "## Params YAML"
   ]
  },
  {
   "cell_type": "code",
   "execution_count": 14,
   "metadata": {},
   "outputs": [
    {
     "name": "stdout",
     "output_type": "stream",
     "text": [
      "Overwriting params.yaml\n"
     ]
    }
   ],
   "source": [
    "%%writefile params.yaml\n",
    "ElasticNet:\n",
    "  alpha: 0.2\n",
    "  l1_ratio: 0.1"
   ]
  }
 ],
 "metadata": {
  "kernelspec": {
   "display_name": "loan",
   "language": "python",
   "name": "python3"
  },
  "language_info": {
   "codemirror_mode": {
    "name": "ipython",
    "version": 3
   },
   "file_extension": ".py",
   "mimetype": "text/x-python",
   "name": "python",
   "nbconvert_exporter": "python",
   "pygments_lexer": "ipython3",
   "version": "3.8.18"
  },
  "orig_nbformat": 4
 },
 "nbformat": 4,
 "nbformat_minor": 2
}
